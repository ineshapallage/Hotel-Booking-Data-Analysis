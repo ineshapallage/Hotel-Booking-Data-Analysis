{
 "cells": [
  {
   "cell_type": "markdown",
   "id": "a2ef10e1-1213-417c-9c7b-2be3bdd5a602",
   "metadata": {},
   "source": [
    "## 6.4 Supervised Machine Learning Regression"
   ]
  },
  {
   "cell_type": "markdown",
   "id": "710cff07-3da2-4a6c-9506-e28c54f6d62b",
   "metadata": {},
   "source": [
    "This script includes the following topics,\n",
    "\n",
    "\n",
    "        I.  Importing libraries and data\n",
    "        II. Hypothesis\n",
    "        III.Explore visuall data of testing variables\n",
    "        IV. Reshape the variables into NumPy arrays and put them into separate objects\n",
    "        V.  Split the data into a training set and a test set\n",
    "        VI. Data preparation for regression analysis\n",
    "        VII.  Regression analysis"
   ]
  },
  {
   "cell_type": "markdown",
   "id": "e38bc532-44c7-46a1-9d23-b0179d1c907d",
   "metadata": {},
   "source": [
    "### I.Importing libraries and data"
   ]
  },
  {
   "cell_type": "code",
   "execution_count": 1,
   "id": "da0179c1-c1be-4870-9360-18230f890dd7",
   "metadata": {},
   "outputs": [],
   "source": [
    "import pandas as pd\n",
    "import numpy as np\n",
    "import seaborn as sns\n",
    "import matplotlib\n",
    "import matplotlib.pyplot as plt\n",
    "import os\n",
    "import sklearn\n",
    "from sklearn.model_selection import train_test_split \n",
    "from sklearn.linear_model import LinearRegression\n",
    "from sklearn.metrics import mean_squared_error, r2_score"
   ]
  },
  {
   "cell_type": "code",
   "execution_count": 2,
   "id": "96c85e68-82ce-49eb-999e-4aafb7599ecc",
   "metadata": {},
   "outputs": [],
   "source": [
    "# Create path\n",
    "\n",
    "path = r'C:\\Users\\inesh\\Documents\\Learning\\CF_Data Analytics course\\Data Analytics Immesion\\Achievement 6\\Hotel Booking Data Analysis'"
   ]
  },
  {
   "cell_type": "code",
   "execution_count": 7,
   "id": "c2d232f1-0ab8-472c-b18f-43ac5de4a10d",
   "metadata": {},
   "outputs": [],
   "source": [
    "# Importing the cleaned dataset\n",
    "\n",
    "df_hotel_cleaned = pd.read_pickle(os.path.join(path, 'II. Data Set', 'Prepared Data', 'df_hotel_cleaned_6.2.pkl'))"
   ]
  },
  {
   "cell_type": "code",
   "execution_count": 9,
   "id": "ac084b1e-f7e9-404d-b210-85eaab07c018",
   "metadata": {},
   "outputs": [
    {
     "data": {
      "text/html": [
       "<div>\n",
       "<style scoped>\n",
       "    .dataframe tbody tr th:only-of-type {\n",
       "        vertical-align: middle;\n",
       "    }\n",
       "\n",
       "    .dataframe tbody tr th {\n",
       "        vertical-align: top;\n",
       "    }\n",
       "\n",
       "    .dataframe thead th {\n",
       "        text-align: right;\n",
       "    }\n",
       "</style>\n",
       "<table border=\"1\" class=\"dataframe\">\n",
       "  <thead>\n",
       "    <tr style=\"text-align: right;\">\n",
       "      <th></th>\n",
       "      <th>Booking ID</th>\n",
       "      <th>Date of Booking</th>\n",
       "      <th>Time</th>\n",
       "      <th>Customer ID</th>\n",
       "      <th>Gender</th>\n",
       "      <th>Age</th>\n",
       "      <th>customer_origin_country</th>\n",
       "      <th>State</th>\n",
       "      <th>City</th>\n",
       "      <th>Destination Country</th>\n",
       "      <th>...</th>\n",
       "      <th>No. Of People</th>\n",
       "      <th>Check-in date</th>\n",
       "      <th>Number_of_days_booked</th>\n",
       "      <th>No_of_rooms_booked</th>\n",
       "      <th>Hotel Name</th>\n",
       "      <th>Hotel Rating</th>\n",
       "      <th>Total_booking_Price_SG$</th>\n",
       "      <th>Profit Margin</th>\n",
       "      <th>Room_price_per_day_SG$</th>\n",
       "      <th>Price Category</th>\n",
       "    </tr>\n",
       "  </thead>\n",
       "  <tbody>\n",
       "    <tr>\n",
       "      <th>0</th>\n",
       "      <td>DDMY00001</td>\n",
       "      <td>2010-01-01</td>\n",
       "      <td>2024-03-04 10:49:40</td>\n",
       "      <td>MY00001</td>\n",
       "      <td>Male</td>\n",
       "      <td>42</td>\n",
       "      <td>Malaysia</td>\n",
       "      <td>Johor</td>\n",
       "      <td>Iskandar Puteri</td>\n",
       "      <td>Denmark</td>\n",
       "      <td>...</td>\n",
       "      <td>1</td>\n",
       "      <td>2010-01-12</td>\n",
       "      <td>8</td>\n",
       "      <td>1</td>\n",
       "      <td>Hotel Triton</td>\n",
       "      <td>4.3</td>\n",
       "      <td>243</td>\n",
       "      <td>0.25</td>\n",
       "      <td>243.000000</td>\n",
       "      <td>Mid Price</td>\n",
       "    </tr>\n",
       "    <tr>\n",
       "      <th>1</th>\n",
       "      <td>DDID00002</td>\n",
       "      <td>2010-01-01</td>\n",
       "      <td>2024-03-04 09:19:47</td>\n",
       "      <td>ID00001</td>\n",
       "      <td>Female</td>\n",
       "      <td>44</td>\n",
       "      <td>Indonesia</td>\n",
       "      <td>Ciawi</td>\n",
       "      <td>West Java</td>\n",
       "      <td>Colombia</td>\n",
       "      <td>...</td>\n",
       "      <td>3</td>\n",
       "      <td>2010-01-21</td>\n",
       "      <td>1</td>\n",
       "      <td>2</td>\n",
       "      <td>Enchanted Isle</td>\n",
       "      <td>4.2</td>\n",
       "      <td>312</td>\n",
       "      <td>0.24</td>\n",
       "      <td>156.000000</td>\n",
       "      <td>Mid Price</td>\n",
       "    </tr>\n",
       "    <tr>\n",
       "      <th>2</th>\n",
       "      <td>DDSG00003</td>\n",
       "      <td>2010-01-01</td>\n",
       "      <td>2024-03-04 11:52:56</td>\n",
       "      <td>SG00001</td>\n",
       "      <td>Female</td>\n",
       "      <td>31</td>\n",
       "      <td>Singapore</td>\n",
       "      <td>Central</td>\n",
       "      <td>Rochor</td>\n",
       "      <td>Germany</td>\n",
       "      <td>...</td>\n",
       "      <td>3</td>\n",
       "      <td>2010-01-02</td>\n",
       "      <td>7</td>\n",
       "      <td>2</td>\n",
       "      <td>Seacoast Hotel</td>\n",
       "      <td>4.5</td>\n",
       "      <td>338</td>\n",
       "      <td>0.20</td>\n",
       "      <td>169.000000</td>\n",
       "      <td>Mid Price</td>\n",
       "    </tr>\n",
       "    <tr>\n",
       "      <th>3</th>\n",
       "      <td>DDSG00004</td>\n",
       "      <td>2010-01-01</td>\n",
       "      <td>2024-03-04 13:44:40</td>\n",
       "      <td>SG00002</td>\n",
       "      <td>Male</td>\n",
       "      <td>28</td>\n",
       "      <td>Singapore</td>\n",
       "      <td>North</td>\n",
       "      <td>Yishun</td>\n",
       "      <td>Canada</td>\n",
       "      <td>...</td>\n",
       "      <td>3</td>\n",
       "      <td>2010-02-15</td>\n",
       "      <td>4</td>\n",
       "      <td>2</td>\n",
       "      <td>Night In Paradise</td>\n",
       "      <td>4.2</td>\n",
       "      <td>254</td>\n",
       "      <td>0.13</td>\n",
       "      <td>127.000000</td>\n",
       "      <td>Low Price</td>\n",
       "    </tr>\n",
       "    <tr>\n",
       "      <th>4</th>\n",
       "      <td>DDKH00005</td>\n",
       "      <td>2010-01-01</td>\n",
       "      <td>2024-03-04 05:38:26</td>\n",
       "      <td>KH00001</td>\n",
       "      <td>Male</td>\n",
       "      <td>44</td>\n",
       "      <td>Cambodia</td>\n",
       "      <td>Phnom Trop</td>\n",
       "      <td>Pursat</td>\n",
       "      <td>Kenya</td>\n",
       "      <td>...</td>\n",
       "      <td>5</td>\n",
       "      <td>2010-01-03</td>\n",
       "      <td>3</td>\n",
       "      <td>3</td>\n",
       "      <td>Tiny Digs Hotel</td>\n",
       "      <td>4.6</td>\n",
       "      <td>313</td>\n",
       "      <td>0.17</td>\n",
       "      <td>104.333333</td>\n",
       "      <td>Low Price</td>\n",
       "    </tr>\n",
       "  </tbody>\n",
       "</table>\n",
       "<p>5 rows × 21 columns</p>\n",
       "</div>"
      ],
      "text/plain": [
       "  Booking ID Date of Booking                Time Customer ID  Gender  Age  \\\n",
       "0  DDMY00001      2010-01-01 2024-03-04 10:49:40     MY00001    Male   42   \n",
       "1  DDID00002      2010-01-01 2024-03-04 09:19:47     ID00001  Female   44   \n",
       "2  DDSG00003      2010-01-01 2024-03-04 11:52:56     SG00001  Female   31   \n",
       "3  DDSG00004      2010-01-01 2024-03-04 13:44:40     SG00002    Male   28   \n",
       "4  DDKH00005      2010-01-01 2024-03-04 05:38:26     KH00001    Male   44   \n",
       "\n",
       "  customer_origin_country       State             City Destination Country  \\\n",
       "0                Malaysia       Johor  Iskandar Puteri             Denmark   \n",
       "1               Indonesia       Ciawi        West Java            Colombia   \n",
       "2               Singapore     Central           Rochor             Germany   \n",
       "3               Singapore       North           Yishun              Canada   \n",
       "4                Cambodia  Phnom Trop           Pursat               Kenya   \n",
       "\n",
       "   ... No. Of People  Check-in date Number_of_days_booked  No_of_rooms_booked  \\\n",
       "0  ...             1     2010-01-12                     8                   1   \n",
       "1  ...             3     2010-01-21                     1                   2   \n",
       "2  ...             3     2010-01-02                     7                   2   \n",
       "3  ...             3     2010-02-15                     4                   2   \n",
       "4  ...             5     2010-01-03                     3                   3   \n",
       "\n",
       "          Hotel Name Hotel Rating  Total_booking_Price_SG$  Profit Margin  \\\n",
       "0       Hotel Triton          4.3                      243           0.25   \n",
       "1     Enchanted Isle          4.2                      312           0.24   \n",
       "2     Seacoast Hotel          4.5                      338           0.20   \n",
       "3  Night In Paradise          4.2                      254           0.13   \n",
       "4    Tiny Digs Hotel          4.6                      313           0.17   \n",
       "\n",
       "   Room_price_per_day_SG$  Price Category  \n",
       "0              243.000000       Mid Price  \n",
       "1              156.000000       Mid Price  \n",
       "2              169.000000       Mid Price  \n",
       "3              127.000000       Low Price  \n",
       "4              104.333333       Low Price  \n",
       "\n",
       "[5 rows x 21 columns]"
      ]
     },
     "execution_count": 9,
     "metadata": {},
     "output_type": "execute_result"
    }
   ],
   "source": [
    "df_hotel_cleaned.head(5)"
   ]
  },
  {
   "cell_type": "markdown",
   "id": "4eb4e9b7-4166-49b1-9cf2-97c55277f2ba",
   "metadata": {},
   "source": [
    "### II. Hypothesis"
   ]
  },
  {
   "cell_type": "markdown",
   "id": "d31979e1-d83c-419a-9032-f5db679b1222",
   "metadata": {},
   "source": [
    "### Hypothesis created based on: There is a positive correlation between \"Hotel Rating\" and \"Total_booking_Price_SG$\", that hotels with higher ratings tend to have higher booking prices.\n",
    "\n",
    "        Null Hypothesis(HO)       = The hotels with higher ratings don't have the chance to charge higher booking prices.\n",
    "        Alternative Hypothesis(H1)= The hotels with higher ratings have the chance to charge higher booking prices\n",
    "\n",
    "\r",
    "        Independent variable: Hotel Rating\n",
    "        Dependant variable: Total_booking_Price_SG$ (Price)\n",
    "\r\n"
   ]
  },
  {
   "cell_type": "markdown",
   "id": "bef46e89-74e0-4467-961f-4603f6597d02",
   "metadata": {},
   "source": [
    "### III.Explore visuall data of testing variables"
   ]
  },
  {
   "cell_type": "code",
   "execution_count": 10,
   "id": "5efcac18-2819-4a68-ac31-cc786b087d99",
   "metadata": {},
   "outputs": [
    {
     "data": {
      "text/plain": [
       "count    66536.000000\n",
       "mean         4.288508\n",
       "std          0.275518\n",
       "min          3.300000\n",
       "25%          4.200000\n",
       "50%          4.300000\n",
       "75%          4.500000\n",
       "max          4.700000\n",
       "Name: Hotel Rating, dtype: float64"
      ]
     },
     "execution_count": 10,
     "metadata": {},
     "output_type": "execute_result"
    }
   ],
   "source": [
    "df_hotel_cleaned['Hotel Rating'].describe()"
   ]
  },
  {
   "cell_type": "code",
   "execution_count": 13,
   "id": "4d6dfe56-8b50-4c55-a3e4-81bb9a0c81ab",
   "metadata": {},
   "outputs": [
    {
     "data": {
      "text/plain": [
       "4.3"
      ]
     },
     "execution_count": 13,
     "metadata": {},
     "output_type": "execute_result"
    }
   ],
   "source": [
    "df_hotel_cleaned['Hotel Rating'].median()"
   ]
  },
  {
   "cell_type": "code",
   "execution_count": 11,
   "id": "557d6256-b89c-4dca-ae8c-cecadcc65570",
   "metadata": {},
   "outputs": [
    {
     "data": {
      "text/plain": [
       "count    66536.000000\n",
       "mean       214.053730\n",
       "std        108.126539\n",
       "min         35.000000\n",
       "25%        125.000000\n",
       "50%        199.000000\n",
       "75%        293.000000\n",
       "max        578.000000\n",
       "Name: Total_booking_Price_SG$, dtype: float64"
      ]
     },
     "execution_count": 11,
     "metadata": {},
     "output_type": "execute_result"
    }
   ],
   "source": [
    "df_hotel_cleaned['Total_booking_Price_SG$'].describe()"
   ]
  },
  {
   "cell_type": "code",
   "execution_count": 14,
   "id": "08932f1e-384b-407b-84ef-449f879e0ee8",
   "metadata": {},
   "outputs": [
    {
     "data": {
      "text/plain": [
       "199.0"
      ]
     },
     "execution_count": 14,
     "metadata": {},
     "output_type": "execute_result"
    }
   ],
   "source": [
    "df_hotel_cleaned['Total_booking_Price_SG$'].median()"
   ]
  },
  {
   "cell_type": "markdown",
   "id": "c6c41bdb-fea5-4b62-a435-a0f6dc137e32",
   "metadata": {},
   "source": [
    "##### Check for extrem values of variables"
   ]
  },
  {
   "cell_type": "code",
   "execution_count": 15,
   "id": "79bed1c3-aee5-4f48-9423-534125ae0c9c",
   "metadata": {},
   "outputs": [
    {
     "name": "stderr",
     "output_type": "stream",
     "text": [
      "C:\\Users\\inesh\\AppData\\Local\\Temp\\ipykernel_26228\\645305958.py:1: UserWarning: \n",
      "\n",
      "`distplot` is a deprecated function and will be removed in seaborn v0.14.0.\n",
      "\n",
      "Please adapt your code to use either `displot` (a figure-level function with\n",
      "similar flexibility) or `histplot` (an axes-level function for histograms).\n",
      "\n",
      "For a guide to updating your code to use the new functions, please see\n",
      "https://gist.github.com/mwaskom/de44147ed2974457ad6372750bbe5751\n",
      "\n",
      "  sns.distplot(df_hotel_cleaned['Hotel Rating'], bins=25)\n",
      "C:\\Users\\inesh\\anaconda3\\Lib\\site-packages\\seaborn\\_oldcore.py:1119: FutureWarning: use_inf_as_na option is deprecated and will be removed in a future version. Convert inf values to NaN before operating instead.\n",
      "  with pd.option_context('mode.use_inf_as_na', True):\n"
     ]
    },
    {
     "data": {
      "image/png": "[encoded data removed]",
      "text/plain": [
       "<Figure size 640x480 with 1 Axes>"
      ]
     },
     "metadata": {},
     "output_type": "display_data"
    }
   ],
   "source": [
    "sns.distplot(df_hotel_cleaned['Hotel Rating'], bins=25) \n",
    "\n",
    "plt.savefig('histo price room density.png')"
   ]
  },
  {
   "cell_type": "code",
   "execution_count": 17,
   "id": "e33845ed-28ec-47b4-941d-4f3bc51495a0",
   "metadata": {},
   "outputs": [
    {
     "name": "stderr",
     "output_type": "stream",
     "text": [
      "C:\\Users\\inesh\\AppData\\Local\\Temp\\ipykernel_26228\\2371450428.py:1: UserWarning: \n",
      "\n",
      "`distplot` is a deprecated function and will be removed in seaborn v0.14.0.\n",
      "\n",
      "Please adapt your code to use either `displot` (a figure-level function with\n",
      "similar flexibility) or `histplot` (an axes-level function for histograms).\n",
      "\n",
      "For a guide to updating your code to use the new functions, please see\n",
      "https://gist.github.com/mwaskom/de44147ed2974457ad6372750bbe5751\n",
      "\n",
      "  sns.distplot(df_hotel_cleaned['Total_booking_Price_SG$'], bins=25)\n",
      "C:\\Users\\inesh\\anaconda3\\Lib\\site-packages\\seaborn\\_oldcore.py:1119: FutureWarning: use_inf_as_na option is deprecated and will be removed in a future version. Convert inf values to NaN before operating instead.\n",
      "  with pd.option_context('mode.use_inf_as_na', True):\n"
     ]
    },
    {
     "data": {
      "image/png": "[encoded data removed]",
      "text/plain": [
       "<Figure size 640x480 with 1 Axes>"
      ]
     },
     "metadata": {},
     "output_type": "display_data"
    }
   ],
   "source": [
    "sns.distplot(df_hotel_cleaned['Total_booking_Price_SG$'], bins=25) \n",
    "\n",
    "plt.savefig('histo hotel rating density.png')"
   ]
  },
  {
   "cell_type": "markdown",
   "id": "d3baffd2-679d-4c00-a281-3ce22f1037e5",
   "metadata": {},
   "source": [
    "#### According to histograms there are no extrem values in both hotel rating & Total_booking_Price_SG$"
   ]
  },
  {
   "cell_type": "code",
   "execution_count": 21,
   "id": "caaeb209-7696-4d7b-874f-1ec8f5f5147d",
   "metadata": {},
   "outputs": [
    {
     "data": {
      "image/png": "[encoded data removed]",
      "text/plain": [
       "<Figure size 640x480 with 1 Axes>"
      ]
     },
     "metadata": {},
     "output_type": "display_data"
    },
    {
     "data": {
      "text/plain": [
       "<Figure size 640x480 with 0 Axes>"
      ]
     },
     "metadata": {},
     "output_type": "display_data"
    }
   ],
   "source": [
    "# Create a scatterplot using matplotlib to check variables plot against each other.\n",
    "\n",
    "df_hotel_cleaned.plot(x = 'Hotel Rating', y='Total_booking_Price_SG$',style='o') \n",
    "plt.title(' Hotel Rating Vs Total_booking_Price_SG$')  \n",
    "plt.xlabel('Hotel Rating')  \n",
    "plt.ylabel('Total_booking_Price_SG$')  \n",
    "plt.show()\n",
    "\n",
    "plt.savefig('Hotel Rating Vs Total_booking_Price_SG$.png')\n"
   ]
  },
  {
   "cell_type": "markdown",
   "id": "cd9b3b78-5792-4828-a701-152704c0d586",
   "metadata": {},
   "source": [
    "### IV Reshape the variables into NumPy arrays and put them into separate objects"
   ]
  },
  {
   "cell_type": "code",
   "execution_count": 25,
   "id": "a10e9e6d-bf69-4ea9-a301-01c8f9ddaf6b",
   "metadata": {},
   "outputs": [],
   "source": [
    "# Reshape the variables into NumPy arrays and put them into separate objects.\n",
    "\n",
    "x = df_hotel_cleaned['Hotel Rating'].values.reshape(-1,1)\n",
    "y = df_hotel_cleaned['Total_booking_Price_SG$'].values.reshape(-1,1)"
   ]
  },
  {
   "cell_type": "code",
   "execution_count": 26,
   "id": "4314d3f7-4e25-414f-833d-ad0dbaed59b5",
   "metadata": {},
   "outputs": [
    {
     "data": {
      "text/plain": [
       "array([[4.3],\n",
       "       [4.2],\n",
       "       [4.5],\n",
       "       ...,\n",
       "       [4.4],\n",
       "       [4.2],\n",
       "       [4.3]])"
      ]
     },
     "execution_count": 26,
     "metadata": {},
     "output_type": "execute_result"
    }
   ],
   "source": [
    "x"
   ]
  },
  {
   "cell_type": "code",
   "execution_count": 27,
   "id": "59ab40d3-36eb-4987-b1d1-006abf1df60b",
   "metadata": {},
   "outputs": [
    {
     "data": {
      "text/plain": [
       "array([[243],\n",
       "       [312],\n",
       "       [338],\n",
       "       ...,\n",
       "       [318],\n",
       "       [173],\n",
       "       [182]], dtype=int64)"
      ]
     },
     "execution_count": 27,
     "metadata": {},
     "output_type": "execute_result"
    }
   ],
   "source": [
    "y"
   ]
  },
  {
   "cell_type": "markdown",
   "id": "00ef81ee-896b-4e9a-9caf-b6eff48c3473",
   "metadata": {},
   "source": [
    "###  V.  Split the data into  a training set and a test set"
   ]
  },
  {
   "cell_type": "code",
   "execution_count": 29,
   "id": "20986249-8ef8-4edf-9f46-c2bcb04bf19d",
   "metadata": {},
   "outputs": [],
   "source": [
    "x_train, x_test, y_train, y_test = train_test_split(X, y, test_size=0.3, random_state=0)"
   ]
  },
  {
   "cell_type": "code",
   "execution_count": 30,
   "id": "46957bb6-4676-46fb-9181-3f0f52476dbf",
   "metadata": {},
   "outputs": [
    {
     "data": {
      "text/plain": [
       "array([[4.6],\n",
       "       [3.8],\n",
       "       [4.6],\n",
       "       ...,\n",
       "       [4.4],\n",
       "       [4.5],\n",
       "       [3.3]])"
      ]
     },
     "execution_count": 30,
     "metadata": {},
     "output_type": "execute_result"
    }
   ],
   "source": [
    "x_train"
   ]
  },
  {
   "cell_type": "code",
   "execution_count": 31,
   "id": "f8a99f3c-031a-4324-98de-6a77d263516d",
   "metadata": {},
   "outputs": [
    {
     "data": {
      "text/plain": [
       "array([[4.3],\n",
       "       [4.2],\n",
       "       [3.8],\n",
       "       ...,\n",
       "       [4.1],\n",
       "       [4.7],\n",
       "       [4.2]])"
      ]
     },
     "execution_count": 31,
     "metadata": {},
     "output_type": "execute_result"
    }
   ],
   "source": [
    "x_test"
   ]
  },
  {
   "cell_type": "markdown",
   "id": "88600917-7657-4d24-b954-3c6beb9d1c63",
   "metadata": {},
   "source": [
    "### VI. Data preparation for regression analysis"
   ]
  },
  {
   "cell_type": "code",
   "execution_count": 32,
   "id": "266a5c49-1453-45d9-8b13-8f86bbd700a3",
   "metadata": {},
   "outputs": [],
   "source": [
    "# Create a regression object.\n",
    "\n",
    "regression = LinearRegression()  # This is the regression object, which will be fit onto the training set."
   ]
  },
  {
   "cell_type": "code",
   "execution_count": 34,
   "id": "11c3f8df-68d7-4823-8a7a-327bc8ca54d1",
   "metadata": {},
   "outputs": [
    {
     "data": {
      "text/html": [
       "<style>#sk-container-id-2 {color: black;}#sk-container-id-2 pre{padding: 0;}#sk-container-id-2 div.sk-toggleable {background-color: white;}#sk-container-id-2 label.sk-toggleable__label {cursor: pointer;display: block;width: 100%;margin-bottom: 0;padding: 0.3em;box-sizing: border-box;text-align: center;}#sk-container-id-2 label.sk-toggleable__label-arrow:before {content: \"▸\";float: left;margin-right: 0.25em;color: #696969;}#sk-container-id-2 label.sk-toggleable__label-arrow:hover:before {color: black;}#sk-container-id-2 div.sk-estimator:hover label.sk-toggleable__label-arrow:before {color: black;}#sk-container-id-2 div.sk-toggleable__content {max-height: 0;max-width: 0;overflow: hidden;text-align: left;background-color: #f0f8ff;}#sk-container-id-2 div.sk-toggleable__content pre {margin: 0.2em;color: black;border-radius: 0.25em;background-color: #f0f8ff;}#sk-container-id-2 input.sk-toggleable__control:checked~div.sk-toggleable__content {max-height: 200px;max-width: 100%;overflow: auto;}#sk-container-id-2 input.sk-toggleable__control:checked~label.sk-toggleable__label-arrow:before {content: \"▾\";}#sk-container-id-2 div.sk-estimator input.sk-toggleable__control:checked~label.sk-toggleable__label {background-color: #d4ebff;}#sk-container-id-2 div.sk-label input.sk-toggleable__control:checked~label.sk-toggleable__label {background-color: #d4ebff;}#sk-container-id-2 input.sk-hidden--visually {border: 0;clip: rect(1px 1px 1px 1px);clip: rect(1px, 1px, 1px, 1px);height: 1px;margin: -1px;overflow: hidden;padding: 0;position: absolute;width: 1px;}#sk-container-id-2 div.sk-estimator {font-family: monospace;background-color: #f0f8ff;border: 1px dotted black;border-radius: 0.25em;box-sizing: border-box;margin-bottom: 0.5em;}#sk-container-id-2 div.sk-estimator:hover {background-color: #d4ebff;}#sk-container-id-2 div.sk-parallel-item::after {content: \"\";width: 100%;border-bottom: 1px solid gray;flex-grow: 1;}#sk-container-id-2 div.sk-label:hover label.sk-toggleable__label {background-color: #d4ebff;}#sk-container-id-2 div.sk-serial::before {content: \"\";position: absolute;border-left: 1px solid gray;box-sizing: border-box;top: 0;bottom: 0;left: 50%;z-index: 0;}#sk-container-id-2 div.sk-serial {display: flex;flex-direction: column;align-items: center;background-color: white;padding-right: 0.2em;padding-left: 0.2em;position: relative;}#sk-container-id-2 div.sk-item {position: relative;z-index: 1;}#sk-container-id-2 div.sk-parallel {display: flex;align-items: stretch;justify-content: center;background-color: white;position: relative;}#sk-container-id-2 div.sk-item::before, #sk-container-id-2 div.sk-parallel-item::before {content: \"\";position: absolute;border-left: 1px solid gray;box-sizing: border-box;top: 0;bottom: 0;left: 50%;z-index: -1;}#sk-container-id-2 div.sk-parallel-item {display: flex;flex-direction: column;z-index: 1;position: relative;background-color: white;}#sk-container-id-2 div.sk-parallel-item:first-child::after {align-self: flex-end;width: 50%;}#sk-container-id-2 div.sk-parallel-item:last-child::after {align-self: flex-start;width: 50%;}#sk-container-id-2 div.sk-parallel-item:only-child::after {width: 0;}#sk-container-id-2 div.sk-dashed-wrapped {border: 1px dashed gray;margin: 0 0.4em 0.5em 0.4em;box-sizing: border-box;padding-bottom: 0.4em;background-color: white;}#sk-container-id-2 div.sk-label label {font-family: monospace;font-weight: bold;display: inline-block;line-height: 1.2em;}#sk-container-id-2 div.sk-label-container {text-align: center;}#sk-container-id-2 div.sk-container {/* jupyter's `normalize.less` sets `[hidden] { display: none; }` but bootstrap.min.css set `[hidden] { display: none !important; }` so we also need the `!important` here to be able to override the default hidden behavior on the sphinx rendered scikit-learn.org. See: https://github.com/scikit-learn/scikit-learn/issues/21755 */display: inline-block !important;position: relative;}#sk-container-id-2 div.sk-text-repr-fallback {display: none;}</style><div id=\"sk-container-id-2\" class=\"sk-top-container\"><div class=\"sk-text-repr-fallback\"><pre>LinearRegression()</pre><b>In a Jupyter environment, please rerun this cell to show the HTML representation or trust the notebook. <br />On GitHub, the HTML representation is unable to render, please try loading this page with nbviewer.org.</b></div><div class=\"sk-container\" hidden><div class=\"sk-item\"><div class=\"sk-estimator sk-toggleable\"><input class=\"sk-toggleable__control sk-hidden--visually\" id=\"sk-estimator-id-2\" type=\"checkbox\" checked><label for=\"sk-estimator-id-2\" class=\"sk-toggleable__label sk-toggleable__label-arrow\">LinearRegression</label><div class=\"sk-toggleable__content\"><pre>LinearRegression()</pre></div></div></div></div></div>"
      ],
      "text/plain": [
       "LinearRegression()"
      ]
     },
     "execution_count": 34,
     "metadata": {},
     "output_type": "execute_result"
    }
   ],
   "source": [
    "# Fit the regression object onto the training set.\n",
    "\n",
    "regression.fit(x_train, y_train)"
   ]
  },
  {
   "cell_type": "code",
   "execution_count": 35,
   "id": "5928f0db-9b16-4a9e-bc54-3a884eed5b78",
   "metadata": {},
   "outputs": [],
   "source": [
    "# Predict the values of y using X.\n",
    "\n",
    "y_predicted = regression.predict(x_test)"
   ]
  },
  {
   "cell_type": "markdown",
   "id": "a52a9ef5-ebb1-4f2d-8556-8794cede6a4b",
   "metadata": {},
   "source": [
    "### VII.  Regression analysisline.png')"
   ]
  },
  {
   "cell_type": "code",
   "execution_count": 41,
   "id": "8a1dfc15-6d76-4b54-ac8d-46d0819359b4",
   "metadata": {},
   "outputs": [
    {
     "data": {
      "image/png": "[encoded data removed]",
      "text/plain": [
       "<Figure size 640x480 with 1 Axes>"
      ]
     },
     "metadata": {},
     "output_type": "display_data"
    },
    {
     "data": {
      "text/plain": [
       "<Figure size 640x480 with 0 Axes>"
      ]
     },
     "metadata": {},
     "output_type": "display_data"
    }
   ],
   "source": [
    "# Create a plot _regression line from the model on the test set.\n",
    "\n",
    "plot_test = plt\n",
    "plot_test.scatter(x_test, y_test, color='green', s = 15)\n",
    "plot_test.plot(x_test, y_predicted, color='red', linewidth =3)\n",
    "plot_test.title('Hotel Rating Vs Total_booking_Price_SG$(Test set)')\n",
    "plot_test.xlabel('Hotel Rating')\n",
    "plot_test.ylabel('Total_booking_Price_SG$')\n",
    "plot_test.show()\n",
    "\n",
    "plt.savefig('Hotel Rating Vs Total_booking_Price_SG$(Test set) regression line.png')"
   ]
  },
  {
   "cell_type": "code",
   "execution_count": 42,
   "id": "27e3bec8-a6d1-484d-8655-d94b10bd3d51",
   "metadata": {},
   "outputs": [],
   "source": [
    "# Create objects that contain the model summary statistics.\n",
    "\n",
    "rmse = mean_squared_error(y_test, y_predicted) # This is the mean squared error\n",
    "r2 = r2_score(y_test, y_predicted) # This is the R2 score. "
   ]
  },
  {
   "cell_type": "code",
   "execution_count": 43,
   "id": "c80ef82b-b42a-4d54-af86-b8d01612ce0d",
   "metadata": {},
   "outputs": [
    {
     "name": "stdout",
     "output_type": "stream",
     "text": [
      "Slope: [[201.65555529]]\n",
      "Mean squared error:  8706.40298875684\n",
      "R2 score:  0.2515462435251835\n"
     ]
    }
   ],
   "source": [
    "# Print the model summary statistics to evaluate the performance of the model.\n",
    "\n",
    "print('Slope:' ,regression.coef_)\n",
    "print('Mean squared error: ', rmse)\n",
    "print('R2 score: ', r2)"
   ]
  },
  {
   "cell_type": "markdown",
   "id": "9a319091-43c9-4cdf-a942-c53cc2a0b424",
   "metadata": {},
   "source": [
    "#### There is some level of correlation between the independent and dependent variables, as indicated by the non-zero R2 score. But, the mean squared error suggests that there is still some error in the predictions made by the model."
   ]
  },
  {
   "cell_type": "code",
   "execution_count": 45,
   "id": "292c4dda-60fb-47e6-880b-bdda0c841bda",
   "metadata": {},
   "outputs": [
    {
     "data": {
      "text/plain": [
       "array([[216.91484155],\n",
       "       [196.74928603],\n",
       "       [116.08706391],\n",
       "       ...,\n",
       "       [176.5837305 ],\n",
       "       [297.57706367],\n",
       "       [196.74928603]])"
      ]
     },
     "execution_count": 45,
     "metadata": {},
     "output_type": "execute_result"
    }
   ],
   "source": [
    "y_predicted"
   ]
  },
  {
   "cell_type": "code",
   "execution_count": 46,
   "id": "9e3a7582-8649-4e94-8e34-ef5db8533f81",
   "metadata": {},
   "outputs": [
    {
     "data": {
      "text/html": [
       "<div>\n",
       "<style scoped>\n",
       "    .dataframe tbody tr th:only-of-type {\n",
       "        vertical-align: middle;\n",
       "    }\n",
       "\n",
       "    .dataframe tbody tr th {\n",
       "        vertical-align: top;\n",
       "    }\n",
       "\n",
       "    .dataframe thead th {\n",
       "        text-align: right;\n",
       "    }\n",
       "</style>\n",
       "<table border=\"1\" class=\"dataframe\">\n",
       "  <thead>\n",
       "    <tr style=\"text-align: right;\">\n",
       "      <th></th>\n",
       "      <th>Actual</th>\n",
       "      <th>Predicted</th>\n",
       "    </tr>\n",
       "  </thead>\n",
       "  <tbody>\n",
       "    <tr>\n",
       "      <th>0</th>\n",
       "      <td>307</td>\n",
       "      <td>216.914842</td>\n",
       "    </tr>\n",
       "    <tr>\n",
       "      <th>1</th>\n",
       "      <td>160</td>\n",
       "      <td>196.749286</td>\n",
       "    </tr>\n",
       "    <tr>\n",
       "      <th>2</th>\n",
       "      <td>195</td>\n",
       "      <td>116.087064</td>\n",
       "    </tr>\n",
       "    <tr>\n",
       "      <th>3</th>\n",
       "      <td>146</td>\n",
       "      <td>196.749286</td>\n",
       "    </tr>\n",
       "    <tr>\n",
       "      <th>4</th>\n",
       "      <td>204</td>\n",
       "      <td>196.749286</td>\n",
       "    </tr>\n",
       "    <tr>\n",
       "      <th>5</th>\n",
       "      <td>288</td>\n",
       "      <td>257.245953</td>\n",
       "    </tr>\n",
       "    <tr>\n",
       "      <th>6</th>\n",
       "      <td>148</td>\n",
       "      <td>257.245953</td>\n",
       "    </tr>\n",
       "    <tr>\n",
       "      <th>7</th>\n",
       "      <td>267</td>\n",
       "      <td>196.749286</td>\n",
       "    </tr>\n",
       "    <tr>\n",
       "      <th>8</th>\n",
       "      <td>289</td>\n",
       "      <td>216.914842</td>\n",
       "    </tr>\n",
       "    <tr>\n",
       "      <th>9</th>\n",
       "      <td>318</td>\n",
       "      <td>237.080397</td>\n",
       "    </tr>\n",
       "    <tr>\n",
       "      <th>10</th>\n",
       "      <td>417</td>\n",
       "      <td>196.749286</td>\n",
       "    </tr>\n",
       "    <tr>\n",
       "      <th>11</th>\n",
       "      <td>208</td>\n",
       "      <td>216.914842</td>\n",
       "    </tr>\n",
       "    <tr>\n",
       "      <th>12</th>\n",
       "      <td>514</td>\n",
       "      <td>196.749286</td>\n",
       "    </tr>\n",
       "    <tr>\n",
       "      <th>13</th>\n",
       "      <td>291</td>\n",
       "      <td>237.080397</td>\n",
       "    </tr>\n",
       "    <tr>\n",
       "      <th>14</th>\n",
       "      <td>189</td>\n",
       "      <td>176.583730</td>\n",
       "    </tr>\n",
       "    <tr>\n",
       "      <th>15</th>\n",
       "      <td>170</td>\n",
       "      <td>116.087064</td>\n",
       "    </tr>\n",
       "    <tr>\n",
       "      <th>16</th>\n",
       "      <td>108</td>\n",
       "      <td>216.914842</td>\n",
       "    </tr>\n",
       "    <tr>\n",
       "      <th>17</th>\n",
       "      <td>50</td>\n",
       "      <td>176.583730</td>\n",
       "    </tr>\n",
       "    <tr>\n",
       "      <th>18</th>\n",
       "      <td>333</td>\n",
       "      <td>277.411508</td>\n",
       "    </tr>\n",
       "    <tr>\n",
       "      <th>19</th>\n",
       "      <td>159</td>\n",
       "      <td>176.583730</td>\n",
       "    </tr>\n",
       "    <tr>\n",
       "      <th>20</th>\n",
       "      <td>263</td>\n",
       "      <td>237.080397</td>\n",
       "    </tr>\n",
       "    <tr>\n",
       "      <th>21</th>\n",
       "      <td>53</td>\n",
       "      <td>237.080397</td>\n",
       "    </tr>\n",
       "    <tr>\n",
       "      <th>22</th>\n",
       "      <td>213</td>\n",
       "      <td>257.245953</td>\n",
       "    </tr>\n",
       "    <tr>\n",
       "      <th>23</th>\n",
       "      <td>263</td>\n",
       "      <td>277.411508</td>\n",
       "    </tr>\n",
       "    <tr>\n",
       "      <th>24</th>\n",
       "      <td>234</td>\n",
       "      <td>277.411508</td>\n",
       "    </tr>\n",
       "    <tr>\n",
       "      <th>25</th>\n",
       "      <td>359</td>\n",
       "      <td>277.411508</td>\n",
       "    </tr>\n",
       "    <tr>\n",
       "      <th>26</th>\n",
       "      <td>195</td>\n",
       "      <td>116.087064</td>\n",
       "    </tr>\n",
       "    <tr>\n",
       "      <th>27</th>\n",
       "      <td>329</td>\n",
       "      <td>196.749286</td>\n",
       "    </tr>\n",
       "    <tr>\n",
       "      <th>28</th>\n",
       "      <td>71</td>\n",
       "      <td>176.583730</td>\n",
       "    </tr>\n",
       "    <tr>\n",
       "      <th>29</th>\n",
       "      <td>214</td>\n",
       "      <td>257.245953</td>\n",
       "    </tr>\n",
       "  </tbody>\n",
       "</table>\n",
       "</div>"
      ],
      "text/plain": [
       "    Actual   Predicted\n",
       "0      307  216.914842\n",
       "1      160  196.749286\n",
       "2      195  116.087064\n",
       "3      146  196.749286\n",
       "4      204  196.749286\n",
       "5      288  257.245953\n",
       "6      148  257.245953\n",
       "7      267  196.749286\n",
       "8      289  216.914842\n",
       "9      318  237.080397\n",
       "10     417  196.749286\n",
       "11     208  216.914842\n",
       "12     514  196.749286\n",
       "13     291  237.080397\n",
       "14     189  176.583730\n",
       "15     170  116.087064\n",
       "16     108  216.914842\n",
       "17      50  176.583730\n",
       "18     333  277.411508\n",
       "19     159  176.583730\n",
       "20     263  237.080397\n",
       "21      53  237.080397\n",
       "22     213  257.245953\n",
       "23     263  277.411508\n",
       "24     234  277.411508\n",
       "25     359  277.411508\n",
       "26     195  116.087064\n",
       "27     329  196.749286\n",
       "28      71  176.583730\n",
       "29     214  257.245953"
      ]
     },
     "execution_count": 46,
     "metadata": {},
     "output_type": "execute_result"
    }
   ],
   "source": [
    "# Create a dataframe comparing the actual and predicted values of y.\n",
    "\n",
    "data = pd.DataFrame({'Actual': y_test.flatten(), 'Predicted': y_predicted.flatten()})\n",
    "data.head(30)"
   ]
  },
  {
   "cell_type": "code",
   "execution_count": 51,
   "id": "745291c3-ac97-457a-82a4-8f231f789f4e",
   "metadata": {},
   "outputs": [],
   "source": [
    "##Compare how the regression fits the train data set\n",
    "\n",
    "# Predict.\n",
    "\n",
    "y_predicted_train = regression.predict(x_train) # This is predicting x_train!"
   ]
  },
  {
   "cell_type": "code",
   "execution_count": 48,
   "id": "8e96efe0-7034-4f70-86fa-82114a3a6ecb",
   "metadata": {},
   "outputs": [],
   "source": [
    "rmse = mean_squared_error(y_train, y_predicted_train)\n",
    "r2 = r2_score(y_train, y_predicted_train)"
   ]
  },
  {
   "cell_type": "code",
   "execution_count": 49,
   "id": "fbfe3469-d3c9-427e-8a7f-a8ffbb009c3d",
   "metadata": {},
   "outputs": [
    {
     "name": "stdout",
     "output_type": "stream",
     "text": [
      "Slope: [[201.65555529]]\n",
      "Mean squared error:  8623.842191946314\n",
      "R2 score:  0.26391856866142815\n"
     ]
    }
   ],
   "source": [
    "print('Slope:' ,regression.coef_)\n",
    "print('Mean squared error: ', rmse)\n",
    "print('R2 score: ', r2)"
   ]
  },
  {
   "cell_type": "code",
   "execution_count": 50,
   "id": "d664ecf2-3bce-4f03-b08e-8f6a553d1ffb",
   "metadata": {},
   "outputs": [
    {
     "data": {
      "image/png": "[encoded data removed]",
      "text/plain": [
       "<Figure size 640x480 with 1 Axes>"
      ]
     },
     "metadata": {},
     "output_type": "display_data"
    },
    {
     "data": {
      "text/plain": [
       "<Figure size 640x480 with 0 Axes>"
      ]
     },
     "metadata": {},
     "output_type": "display_data"
    }
   ],
   "source": [
    "# Visualizing the train data set results.\n",
    "\n",
    "plot_test = plt\n",
    "plot_test.scatter(x_train, y_train, color='orange', s = 15)\n",
    "plot_test.plot(x_train, y_predicted_train, color='green', linewidth =3)\n",
    "plot_test.title('Hotel Rating Vs Total_booking_Price_SG$(Train set)')\n",
    "plot_test.xlabel('Hotel Rating')\n",
    "plot_test.ylabel('Total_booking_Price_SG$')\n",
    "plot_test.show()\n",
    "\n",
    "plt.savefig('Hotel Rating Vs Total_booking_Price_SG$(training set) regression line.png')"
   ]
  },
  {
   "cell_type": "markdown",
   "id": "37454339-1288-4eae-8f46-911c30949e6f",
   "metadata": {},
   "source": [
    "#### Comparison of test & train data models\n",
    "\n",
    "Slope: The slope of the regression line for both the test and train data is identical (When a one-unit change in the independent variable, the dependent variable changes)\n",
    "\n",
    "Mean squared error: The model performs slightly better on the training set in terms of predicting the target variable.\n",
    "\n",
    "R2 Score: The R2 score for the train data (0.2639) is slightly higher than that of the test data (0.2515)\n",
    "\n",
    "Summary: The model performs slightly better on the training set compared to the test set (slightly lower mean squared error and slightly higher R2 score). The differences are relatively small, but suggesting that the model generalizes reasonably well to unseen data."
   ]
  },
  {
   "cell_type": "code",
   "execution_count": null,
   "id": "32d4d786-9cce-4079-bf10-f5628acc6c11",
   "metadata": {},
   "outputs": [],
   "source": []
  }
 ],
 "metadata": {
  "kernelspec": {
   "display_name": "Python 3 (ipykernel)",
   "language": "python",
   "name": "python3"
  },
  "language_info": {
   "codemirror_mode": {
    "name": "ipython",
    "version": 3
   },
   "file_extension": ".py",
   "mimetype": "text/x-python",
   "name": "python",
   "nbconvert_exporter": "python",
   "pygments_lexer": "ipython3",
   "version": "3.11.5"
  }
 },
 "nbformat": 4,
 "nbformat_minor": 5
}
